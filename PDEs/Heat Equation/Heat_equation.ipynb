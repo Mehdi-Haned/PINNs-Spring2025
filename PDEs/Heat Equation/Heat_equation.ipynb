{
 "cells": [
  {
   "cell_type": "code",
   "execution_count": 1,
   "id": "d3b061a4",
   "metadata": {},
   "outputs": [],
   "source": [
    "import numpy as np\n",
    "import matplotlib.pyplot as plt\n",
    "from PIL import Image"
   ]
  },
  {
   "cell_type": "code",
   "execution_count": null,
   "id": "ee2a6d96",
   "metadata": {},
   "outputs": [],
   "source": [
    "L = np.pi*2 * 2\n",
    "T = 50\n",
    "\n",
    "a = 1e-1\n",
    "dx = 5e-2\n",
    "dt = dx**2 / (6*a)\n",
    "\n",
    "x = np.arange(0, L+dx, dx)\n",
    "t = np.arange(0, T+dt, dt)\n",
    "\n",
    "boundary_x = [0, -1]\n",
    "Nt, Nx = len(t), len(x)\n",
    "\n",
    "def u_0(x):\n",
    "    \"Initial Condition\"\n",
    "    return np.cos(x)\n",
    "\n",
    "def u_b(t):\n",
    "    \"Boundary Conidtion for function\"\n",
    "    return 1\n",
    "\n",
    "def du_b(t):\n",
    "    \"Boundary Conidtion for derivative\"\n",
    "    return 0\n",
    "\n",
    "u = np.zeros((Nt, Nx))\n",
    "\n",
    "BC = \"Derichlet\"\n",
    "\n",
    "# if BC == \"Derichlet\":\n",
    "#     for i, ti in enumerate(t):\n",
    "#         u[1:, [0, -1]] = u_b(t)\n",
    "    \n",
    "def Du(ti, ui):\n",
    "    du = np.zeros_like(ui)\n",
    "    du[1:-1] = (ui[2:] - ui[:-2])/(2*dx)\n",
    "    if BC == \"Derichlet\":\n",
    "        du[0]  = (ui[1]  - u_b(ti))/(dx)\n",
    "        du[-1] = (u_b(ti) - ui[-2])/(dx)\n",
    "    elif BC == \"Neumann\":\n",
    "        du[0]  = du_b(ti)\n",
    "        du[-1] = du_b(ti)\n",
    "    return du\n",
    "\n",
    "def D2u(ti, ui):\n",
    "    d2u       = np.zeros_like(ui)\n",
    "    d2u[1:-1] = (ui[2:] - 2*ui[1:-1] + ui[:-2])/(dx**2)\n",
    "    if BC == \"Derichlet\":\n",
    "        d2u[0]  = (ui[2]  - 2*ui[1]  + u_b(ti))/(dx**2)\n",
    "        d2u[-1] = (ui[-3] - 2*ui[-2] + u_b(ti))/(dx**2)\n",
    "    elif BC == \"Neumann\":\n",
    "        d2u[0]  = (ui[2]  - ui[1]  - dx*du_b(ti))/(dx**2)\n",
    "        d2u[-1] = (ui[-3] - ui[-2] - dx*du_b(ti))/(dx**2)\n",
    "    return d2u\n",
    "\n",
    "def PDE(ti, ui):\n",
    "    dudt = a*D2u(ti, ui)\n",
    "    return dudt\n",
    "\n",
    "for i, ti in enumerate(t):\n",
    "    if i == 0:\n",
    "        u[0, :] = u_0(x)\n",
    "    else:\n",
    "        ui = u[i-1, :]\n",
    "        k1 = dt*PDE(ti, ui)\n",
    "        k2 = dt*PDE(ti+0.5*dt, ui+0.5*k1)\n",
    "        k3 = dt*PDE(ti+0.5*dt, ui+0.5*k2)\n",
    "        k4 = dt*PDE(ti+dt, ui+k3)\n",
    "        u[i, :] = ui + 1/6 * (k1 + 2*k2 + 2*k3 + k4)\n"
   ]
  },
  {
   "cell_type": "code",
   "execution_count": 3,
   "id": "8021b9e7",
   "metadata": {},
   "outputs": [],
   "source": [
    "def save_gif_PIL(outfile, files, fps=5, loop=0):\n",
    "    \"Helper function for saving GIFs\"\n",
    "    imgs = [Image.open(file) for file in files]\n",
    "    imgs[0].save(fp=outfile, format='GIF', append_images=imgs[1:], save_all=True, duration=int(1000/fps), loop=loop)\n",
    "\n",
    "def make_plot(save=False, file_name=f\"PDE_solution.png\"):\n",
    "    \"Helper function for plotting\"\n",
    "    fig, ax = plt.subplots()\n",
    "    ax.plot(x, u[i, :])\n",
    "    ax.set_xlim(0, L)\n",
    "    ax.set_ylim(-1.05, 1.05)\n",
    "    ax.grid()\n",
    "    ax.set_title(f\"Time = {t[i]:.3f}s\")\n",
    "    if save:\n",
    "        fig.savefig(file_name, bbox_inches=\"tight\", pad_inches=0.1, dpi=100, facecolor=\"white\")"
   ]
  },
  {
   "cell_type": "code",
   "execution_count": 4,
   "id": "1c81f20a",
   "metadata": {},
   "outputs": [
    {
     "data": {
      "text/plain": [
       "5000"
      ]
     },
     "execution_count": 4,
     "metadata": {},
     "output_type": "execute_result"
    }
   ],
   "source": [
    "Nt//10"
   ]
  },
  {
   "cell_type": "code",
   "execution_count": 5,
   "id": "d3947d29",
   "metadata": {},
   "outputs": [],
   "source": [
    "files = []\n",
    "for i in range(Nt):\n",
    "    if i%100 == 0:\n",
    "        file = f\"plots/PDE_sol_{i:08d}.png\"\n",
    "        make_plot(save=True, file_name=file)\n",
    "        files.append(file)\n",
    "        plt.close(\"all\")\n",
    "save_gif_PIL(\"PDE_solution.gif\", files, fps=20, loop=0)"
   ]
  }
 ],
 "metadata": {
  "kernelspec": {
   "display_name": ".PINNs",
   "language": "python",
   "name": "python3"
  },
  "language_info": {
   "codemirror_mode": {
    "name": "ipython",
    "version": 3
   },
   "file_extension": ".py",
   "mimetype": "text/x-python",
   "name": "python",
   "nbconvert_exporter": "python",
   "pygments_lexer": "ipython3",
   "version": "3.10.5"
  }
 },
 "nbformat": 4,
 "nbformat_minor": 5
}
