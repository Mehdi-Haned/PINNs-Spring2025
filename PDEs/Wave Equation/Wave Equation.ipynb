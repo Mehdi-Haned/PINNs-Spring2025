{
 "cells": [
  {
   "cell_type": "code",
   "execution_count": 18,
   "id": "d3b061a4",
   "metadata": {},
   "outputs": [],
   "source": [
    "import numpy as np\n",
    "import matplotlib.pyplot as plt\n",
    "from scipy.optimize import fsolve\n",
    "from PIL import Image"
   ]
  },
  {
   "cell_type": "code",
   "execution_count": null,
   "id": "ee2a6d96",
   "metadata": {},
   "outputs": [
    {
     "name": "stdout",
     "output_type": "stream",
     "text": [
      "Time 0.000s, max(u) = 1.000\n",
      "Time 1.000s, max(u) = 0.906\n",
      "Time 2.000s, max(u) = 0.820\n",
      "Time 3.000s, max(u) = 0.743\n",
      "Time 4.000s, max(u) = 0.672\n",
      "Time 5.000s, max(u) = 0.609\n",
      "Time 6.000s, max(u) = 0.551\n",
      "Time 7.000s, max(u) = 0.499\n",
      "Time 8.000s, max(u) = 0.452\n",
      "Time 9.000s, max(u) = 0.409\n",
      "Time 10.000s, max(u) = 0.370\n",
      "Time 11.000s, max(u) = 0.335\n",
      "Time 12.000s, max(u) = 0.303\n",
      "Time 13.000s, max(u) = 0.275\n",
      "Time 14.000s, max(u) = 0.249\n",
      "Time 15.000s, max(u) = 0.225\n",
      "Time 16.000s, max(u) = 0.204\n",
      "Time 17.000s, max(u) = 0.185\n",
      "Time 18.000s, max(u) = 0.167\n",
      "Time 19.000s, max(u) = 0.151\n",
      "Time 20.000s, max(u) = 0.137\n"
     ]
    }
   ],
   "source": [
    "L = 5\n",
    "T = 20\n",
    "\n",
    "dx = 1e-2\n",
    "dt = 1e-2\n",
    "\n",
    "x = np.arange(0, L+dx, dx)\n",
    "t = np.arange(0, T+dt, dt)\n",
    "\n",
    "Nt, Nx = len(t), len(x)\n",
    "\n",
    "def u_0(x):\n",
    "    return np.exp(-100*(x - L/2)**2)\n",
    "\n",
    "def v_0(x):\n",
    "    return np.zeros_like(x)\n",
    "\n",
    "def D2u(n):\n",
    "    D2 = np.zeros((n, n))\n",
    "    for i in range(1, n-1):\n",
    "        D2[i, [i-1, i, i+1]] = [1, -2, 1]\n",
    "    D2[0, [0, 1]]    = [-2, 1]\n",
    "    D2[-1, [-2, -1]] = [1, -2]\n",
    "    return 1/dx * D2\n",
    "\n",
    "c  = 1\n",
    "D2 = D2u(Nx)\n",
    "I  = np.diag(np.ones(Nx))\n",
    "u = np.zeros((Nt, Nx))\n",
    "v = np.zeros((Nt, Nx))\n",
    "\n",
    "def F(ti):\n",
    "    return a*D2\n",
    "\n",
    "for i, ti in enumerate(t):\n",
    "    if i == 0:\n",
    "        u[0, :] = u_0(x)\n",
    "        v[0, :] = v_0(x)\n",
    "    else:\n",
    "        j  = i-1\n",
    "        uj = u[j, :]\n",
    "        tj = t[j]\n",
    "        u[i, :] = \n",
    "        v[i, :] = np.linalg.solve((I - dt/2 * F(tj)), (I + dt/2 * F(ti))@uj)\n",
    "    \n",
    "    if np.max(np.abs(u[i, :])) > 1e2:\n",
    "        print(f\"Blow up at time {ti:.3f}s\")\n",
    "        break\n",
    "    \n",
    "    if i % 100 == 0:\n",
    "        print(f\"Time {ti:.3f}s, max(u) = {np.max(np.abs(u[i, :])):.3f}\")\n",
    "        \n",
    "\n"
   ]
  },
  {
   "cell_type": "code",
   "execution_count": 20,
   "id": "8021b9e7",
   "metadata": {},
   "outputs": [],
   "source": [
    "def save_gif_PIL(outfile, files, fps=5, loop=0):\n",
    "    \"Helper function for saving GIFs\"\n",
    "    imgs = [Image.open(file) for file in files]\n",
    "    imgs[0].save(fp=outfile, format='GIF', append_images=imgs[1:], save_all=True, duration=round(1000/fps), loop=loop)\n",
    "\n",
    "def make_plot(save=False, file_name=f\"PDE_solution.png\", ti=0):\n",
    "    \"Helper function for plotting\"\n",
    "    fig, ax = plt.subplots()\n",
    "    ax.plot(x, u[i, :])\n",
    "    ax.set_xlim(0, L)\n",
    "    ax.set_ylim(-1.05, 1.05)\n",
    "    ax.grid()\n",
    "    ax.set_title(f\"Time = {ti:.3f}s\")\n",
    "    if save:\n",
    "        fig.savefig(file_name, bbox_inches=\"tight\", pad_inches=0.1, dpi=100, facecolor=\"white\")"
   ]
  },
  {
   "cell_type": "code",
   "execution_count": 21,
   "id": "e8d03b1e",
   "metadata": {},
   "outputs": [],
   "source": [
    "import os\n",
    "import shutil\n",
    "\n",
    "folder_path=\"plots\"\n",
    "for item in os.listdir(folder_path):\n",
    "    item_path = os.path.join(folder_path, item)\n",
    "    try:\n",
    "        if os.path.isfile(item_path) or os.path.islink(item_path):\n",
    "            os.unlink(item_path)  # Remove file or symbolic link\n",
    "        elif os.path.isdir(item_path):\n",
    "            shutil.rmtree(item_path)  # Remove subdirectory and its contents\n",
    "    except Exception as e:\n",
    "        print(f\"Failed to delete {item_path}. Reason: {e}\")"
   ]
  },
  {
   "cell_type": "code",
   "execution_count": 22,
   "id": "d3947d29",
   "metadata": {},
   "outputs": [],
   "source": [
    "files = []\n",
    "fps   = 20\n",
    "frame_indicies = np.linspace(0, Nt-1, int(fps*T), dtype=int)\n",
    "for i in frame_indicies:\n",
    "    ti = t[i]\n",
    "    file = f\"plots/PDE_sol_{ti:.5f}.png\"\n",
    "    make_plot(save=True, file_name=file, ti=ti)\n",
    "    files.append(file)\n",
    "    plt.close(\"all\")\n",
    "    \n",
    "save_gif_PIL(\"PDE_solution.gif\", files, fps=fps, loop=0)"
   ]
  }
 ],
 "metadata": {
  "kernelspec": {
   "display_name": ".PINNs",
   "language": "python",
   "name": "python3"
  },
  "language_info": {
   "codemirror_mode": {
    "name": "ipython",
    "version": 3
   },
   "file_extension": ".py",
   "mimetype": "text/x-python",
   "name": "python",
   "nbconvert_exporter": "python",
   "pygments_lexer": "ipython3",
   "version": "3.11.5"
  }
 },
 "nbformat": 4,
 "nbformat_minor": 5
}
