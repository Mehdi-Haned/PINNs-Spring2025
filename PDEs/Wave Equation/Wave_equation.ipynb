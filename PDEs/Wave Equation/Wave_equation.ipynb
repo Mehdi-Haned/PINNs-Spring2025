{
 "cells": [
  {
   "cell_type": "code",
   "execution_count": 44,
   "id": "d3b061a4",
   "metadata": {},
   "outputs": [],
   "source": [
    "import numpy as np\n",
    "import matplotlib.pyplot as plt\n",
    "from PIL import Image"
   ]
  },
  {
   "cell_type": "code",
   "execution_count": null,
   "id": "9656a4eb",
   "metadata": {},
   "outputs": [],
   "source": [
    "L = 1\n",
    "T = 50\n",
    "dt, dx = 1e-4, 1e-3\n",
    "\n",
    "x = np.arange(0, L+dx, dx)\n",
    "t = np.arange(0, T+dt, dt)"
   ]
  },
  {
   "cell_type": "code",
   "execution_count": 46,
   "id": "b54ba55c",
   "metadata": {},
   "outputs": [
    {
     "data": {
      "text/plain": [
       "500001"
      ]
     },
     "execution_count": 46,
     "metadata": {},
     "output_type": "execute_result"
    }
   ],
   "source": [
    "Nt, Nx = len(t), len(x)\n",
    "Nt"
   ]
  },
  {
   "cell_type": "code",
   "execution_count": 47,
   "id": "ee2a6d96",
   "metadata": {},
   "outputs": [],
   "source": [
    "\n",
    "def u_0(x):\n",
    "    return np.where((0.5-2*dx <= x) & (x <= 0.5+2*dx), 10, 0.0)\n",
    "\n",
    "def v_0(x):\n",
    "    \"Initial Condition\"\n",
    "    return 0\n",
    "\n",
    "def u_b(ti):\n",
    "    return 0\n",
    "\n",
    "c = 5e-2\n",
    "U = np.zeros((2, Nt, Nx))\n",
    "\n",
    "BC = \"Derichlet\"\n",
    "\n",
    "def Du(ti, ui):\n",
    "    du = np.zeros_like(ui)\n",
    "    du[1:-1] = (ui[2:] - ui[:-2])/(2*dx)\n",
    "    du[0]  = (ui[1]   - 0)/(dx)\n",
    "    du[-1] = (u_b(ti) - ui[-2])/(dx)\n",
    "    return du\n",
    "\n",
    "def D2u(ti, ui):\n",
    "    d2u       = np.zeros_like(ui)\n",
    "    d2u[1:-1] = (ui[2:] - 2*ui[1:-1] + ui[:-2])/(dx**2)\n",
    "    d2u[0]    = (u_b(ti) - 2*ui[1]  + ui[2])/(dx**2)\n",
    "    d2u[-1]   = (u_b(ti) - 2*ui[-2] + ui[-3])/(dx**2)\n",
    "    return d2u\n",
    "\n",
    "def PDE(ti, Xi):\n",
    "    dXi = np.array([Xi[1], c**2 * D2u(ti, Xi[0])])\n",
    "    return dXi\n",
    "\n",
    "for i, ti in enumerate(t):\n",
    "    if i == 0:\n",
    "        U[0, 0, :] = u_0(x)\n",
    "        U[1, 0, :] = v_0(x)\n",
    "    else:\n",
    "        ui = U[0, i-1, :]\n",
    "        vi = U[1, i-1, :]\n",
    "        \n",
    "        k1_u = dt*(vi)\n",
    "        k1_v = dt*(c**2 * D2u(ti, ui))\n",
    "\n",
    "        k2_u = dt*(vi + k1_u*0.5)\n",
    "        k2_v = dt*(c**2 * D2u(ti + 0.5*dt, ui + 0.5*k1_v))\n",
    "\n",
    "        k3_u = dt*(vi + k2_u*0.5)\n",
    "        k3_v = dt*(c**2 * D2u(ti + 0.5*dt, ui + 0.5*k2_v))\n",
    "\n",
    "        k4_u = dt*(vi + k3_u)\n",
    "        k4_v = dt*(c**2 * D2u(ti + 0.5*dt, ui + k3_v))\n",
    "\n",
    "        U[0, i, :] = ui + (1/6)*(k1_u + 2*k2_u + 2*k3_u + k4_u)\n",
    "        U[1, i, :] = vi + (1/6)*(k1_v + 2*k2_v + 2*k3_v + k4_v)\n",
    "        U[0, i, [0, -1]] = u_b(ti)"
   ]
  },
  {
   "cell_type": "code",
   "execution_count": 48,
   "id": "8021b9e7",
   "metadata": {},
   "outputs": [],
   "source": [
    "def save_gif_PIL(outfile, files, fps=5, loop=0):\n",
    "    \"Helper function for saving GIFs\"\n",
    "    imgs = [Image.open(file) for file in files]\n",
    "    imgs[0].save(fp=outfile, format='GIF', append_images=imgs[1:], save_all=True, duration=int(1000/fps), loop=loop)\n",
    "\n",
    "def make_plot(save=False, file_name=f\"PDE_solution.png\"):\n",
    "    \"Helper function for plotting\"\n",
    "    fig, ax = plt.subplots()\n",
    "    ax.plot(x, U[0, i, :])\n",
    "    ax.set_xlim(0, L)\n",
    "    ax.set_ylim(-10.05, 10.05)\n",
    "    ax.grid()\n",
    "    ax.set_title(f\"Time = {t[i]:.3f}s\")\n",
    "    if save:\n",
    "        fig.savefig(file_name, bbox_inches=\"tight\", pad_inches=0.1, dpi=100, facecolor=\"white\")\n",
    "        "
   ]
  },
  {
   "cell_type": "code",
   "execution_count": 49,
   "id": "105c3781",
   "metadata": {},
   "outputs": [],
   "source": [
    "import os\n",
    "import shutil\n",
    "\n",
    "folder_path=\"plots\"\n",
    "for item in os.listdir(folder_path):\n",
    "    item_path = os.path.join(folder_path, item)\n",
    "    try:\n",
    "        if os.path.isfile(item_path) or os.path.islink(item_path):\n",
    "            os.unlink(item_path)  # Remove file or symbolic link\n",
    "        elif os.path.isdir(item_path):\n",
    "            shutil.rmtree(item_path)  # Remove subdirectory and its contents\n",
    "    except Exception as e:\n",
    "        print(f\"Failed to delete {item_path}. Reason: {e}\")"
   ]
  },
  {
   "cell_type": "code",
   "execution_count": 50,
   "id": "d3947d29",
   "metadata": {},
   "outputs": [],
   "source": [
    "files = []\n",
    "for i in range(len(t)):\n",
    "    if i%1000 == 0:\n",
    "        file = f\"plots/PDE_sol_{i:08d}.png\"\n",
    "        make_plot(save=True, file_name=file)\n",
    "        files.append(file)\n",
    "        plt.close(\"all\")\n",
    "save_gif_PIL(\"PDE_solution.gif\", files, fps=20, loop=0)"
   ]
  }
 ],
 "metadata": {
  "kernelspec": {
   "display_name": ".PINNs",
   "language": "python",
   "name": "python3"
  },
  "language_info": {
   "codemirror_mode": {
    "name": "ipython",
    "version": 3
   },
   "file_extension": ".py",
   "mimetype": "text/x-python",
   "name": "python",
   "nbconvert_exporter": "python",
   "pygments_lexer": "ipython3",
   "version": "3.10.5"
  }
 },
 "nbformat": 4,
 "nbformat_minor": 5
}
