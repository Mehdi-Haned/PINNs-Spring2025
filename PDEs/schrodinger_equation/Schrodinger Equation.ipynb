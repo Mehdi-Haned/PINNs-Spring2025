{
 "cells": [
  {
   "cell_type": "code",
   "execution_count": 57,
   "id": "d3b061a4",
   "metadata": {},
   "outputs": [],
   "source": [
    "import numpy as np\n",
    "import matplotlib.pyplot as plt\n",
    "from scipy.optimize import fsolve\n",
    "from scipy.sparse import diags\n",
    "from scipy.sparse.linalg import factorized\n",
    "from PIL import Image"
   ]
  },
  {
   "cell_type": "code",
   "execution_count": 58,
   "id": "daf9c740",
   "metadata": {},
   "outputs": [
    {
     "data": {
      "image/png": "[encoded data removed]",
      "text/plain": [
       "<Figure size 640x480 with 1 Axes>"
      ]
     },
     "metadata": {},
     "output_type": "display_data"
    }
   ],
   "source": [
    "L = 5\n",
    "T = 20\n",
    "\n",
    "dx = 1e-3\n",
    "dt = 1e-4\n",
    "\n",
    "x = np.arange(-L-dx, L+dx, dx)\n",
    "t = np.arange(0, T+dt, dt)\n",
    "\n",
    "Nt, Nx = len(t), len(x)\n",
    "\n",
    "def v(x):\n",
    "    \"Potential function\"\n",
    "    return (0.5*(2*x)**2)\n",
    "\n",
    "def u_0(x):\n",
    "    \"Initial Condition\"\n",
    "    s = 0.1\n",
    "    m = -1\n",
    "    return 1/(np.pi*s**2)**(0.25) * np.exp(-0.5 * ((x-m)/s)**2)\n",
    "\n",
    "fig, ax = plt.subplots()\n",
    "ax.plot(x, v(x), color=\"gray\", lw=1, label=\"Potential\", ls=\"--\")\n",
    "ax.plot(x, np.abs(u_0(x)), color=\"black\", lw=1.5)\n",
    "ax.set_xlim(-L, L)\n",
    "ax.set_ylim(-2.05, 2.05)\n",
    "ax.grid()\n"
   ]
  },
  {
   "cell_type": "code",
   "execution_count": 59,
   "id": "8021b9e7",
   "metadata": {},
   "outputs": [],
   "source": [
    "def save_gif_PIL(outfile, files, fps=5, loop=0):\n",
    "    \"Helper function for saving GIFs\"\n",
    "    imgs = [Image.open(file) for file in files]\n",
    "    imgs[0].save(fp=outfile, format='GIF', append_images=imgs[1:], save_all=True, duration=round(1000/fps), loop=loop)\n",
    "\n",
    "def make_plot(save=False, file_name=f\"PDE_solution.png\", ti=0):\n",
    "    \"Helper function for plotting\"\n",
    "    fig, ax = plt.subplots()\n",
    "    ax.plot(x, v(x), color=\"gray\", lw=1, label=\"Potential\", ls=\"--\")\n",
    "    ax.plot(x, np.abs(u[i, :]), color=\"black\", lw=1.5)\n",
    "    ax.plot(x, np.real(u[i, :]), color=\"Red\", lw=1)\n",
    "    ax.plot(x, np.imag(u[i, :]), color=\"Blue\", lw=1)\n",
    "    ax.set_xlim(-L, L)\n",
    "    ax.set_ylim(-2.05, 2.05)\n",
    "    ax.grid()\n",
    "    ax.set_title(f\"Time = {ti:.3f}s\")\n",
    "    if save:\n",
    "        fig.savefig(file_name, bbox_inches=\"tight\", pad_inches=0.1, dpi=100, facecolor=\"white\")"
   ]
  },
  {
   "cell_type": "code",
   "execution_count": null,
   "id": "ee2a6d96",
   "metadata": {},
   "outputs": [
    {
     "name": "stdout",
     "output_type": "stream",
     "text": [
      "Time 0.000s, |psi|^2 = 1.000\n"
     ]
    }
   ],
   "source": [
    "u  = np.zeros((Nt, Nx), dtype=complex)\n",
    "D2 = 1/(dx**2) * diags([1, -2, 1], [-1, 0, 1], shape=(Nx, Nx))\n",
    "I  = diags([1], [0], shape=(Nx, Nx))\n",
    "V  = diags(v(x), 0, shape=(Nx, Nx))\n",
    "\n",
    "a = 1e-1\n",
    "H = 1j*(a*D2 - V)\n",
    "A = (I - dt/2 * H)\n",
    "B = (I + dt/2 * H)\n",
    "\n",
    "solve = factorized(A.tocsc())\n",
    "\n",
    "for i, ti in enumerate(t):\n",
    "    if i == 0:\n",
    "        u[0, :] = u_0(x)\n",
    "    else:\n",
    "        uj = u[i-1, :]\n",
    "        u[i, :] = solve(B @ uj)\n",
    "    \n",
    "    if np.max(np.abs(u[i, :])) > 1e2:\n",
    "        print(f\"Blow up at time {ti:.3f}s\")\n",
    "        break\n",
    "    \n",
    "    if i % int(1/dt * 1e-1) == 0:\n",
    "        print(f\"Time {ti:.3f}s, |psi|^2 = {np.trapz(np.abs(u[i, :])**2, x):.3f}\")\n"
   ]
  },
  {
   "cell_type": "code",
   "execution_count": null,
   "id": "e8d03b1e",
   "metadata": {},
   "outputs": [],
   "source": [
    "import os\n",
    "import shutil\n",
    "\n",
    "folder_path=\"plots\"\n",
    "for item in os.listdir(folder_path):\n",
    "    item_path = os.path.join(folder_path, item)\n",
    "    try:\n",
    "        if os.path.isfile(item_path) or os.path.islink(item_path):\n",
    "            os.unlink(item_path)  # Remove file or symbolic link\n",
    "        elif os.path.isdir(item_path):\n",
    "            shutil.rmtree(item_path)  # Remove subdirectory and its contents\n",
    "    except Exception as e:\n",
    "        print(f\"Failed to delete {item_path}. Reason: {e}\")"
   ]
  },
  {
   "cell_type": "code",
   "execution_count": null,
   "id": "d3947d29",
   "metadata": {},
   "outputs": [],
   "source": [
    "files = []\n",
    "fps   = 20\n",
    "frame_indicies = np.linspace(0, Nt-1, int(fps*T), dtype=int)\n",
    "for i in frame_indicies:\n",
    "    ti = t[i]\n",
    "    file = f\"plots/PDE_sol_{ti:.5f}.png\"\n",
    "    make_plot(save=True, file_name=file, ti=ti)\n",
    "    files.append(file)\n",
    "    plt.close(\"all\")\n",
    "    \n",
    "save_gif_PIL(\"PDE_solution.gif\", files, fps=fps, loop=0)"
   ]
  }
 ],
 "metadata": {
  "kernelspec": {
   "display_name": ".PINNs",
   "language": "python",
   "name": "python3"
  },
  "language_info": {
   "codemirror_mode": {
    "name": "ipython",
    "version": 3
   },
   "file_extension": ".py",
   "mimetype": "text/x-python",
   "name": "python",
   "nbconvert_exporter": "python",
   "pygments_lexer": "ipython3",
   "version": "3.11.5"
  }
 },
 "nbformat": 4,
 "nbformat_minor": 5
}
